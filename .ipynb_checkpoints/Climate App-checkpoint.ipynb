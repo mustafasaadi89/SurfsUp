{
 "cells": [
  {
   "cell_type": "code",
   "execution_count": 50,
   "metadata": {
    "collapsed": true
   },
   "outputs": [],
   "source": [
    "import datetime as dt\n",
    "import numpy as np\n",
    "import pandas as pd\n",
    "\n",
    "import sqlalchemy\n",
    "from sqlalchemy.ext.automap import automap_base\n",
    "from sqlalchemy.orm import Session\n",
    "from sqlalchemy import create_engine, func\n",
    "\n",
    "from flask import Flask, jsonify\n",
    "\n",
    "import datetime"
   ]
  },
  {
   "cell_type": "code",
   "execution_count": null,
   "metadata": {
    "collapsed": true
   },
   "outputs": [],
   "source": []
  },
  {
   "cell_type": "code",
   "execution_count": 51,
   "metadata": {
    "collapsed": true
   },
   "outputs": [],
   "source": [
    "#Database Setup\n",
    "engine=create_engine(\"sqlite:///hawaii.sqlite\")\n",
    "\n",
    "#reflect database into a new model\n",
    "Base=automap_base()\n",
    "#reflect the tables\n",
    "Base.prepare(engine,reflect=True)\n",
    "\n",
    "#save references to the table\n",
    "Station=Base.classes.stations\n",
    "Measurement=Base.classes.measurments\n",
    "\n",
    "#create session from python to the DB\n",
    "session=Session(engine)"
   ]
  },
  {
   "cell_type": "code",
   "execution_count": 52,
   "metadata": {
    "collapsed": true
   },
   "outputs": [],
   "source": [
    "#Create an app\n",
    "app=Flask(__name__)"
   ]
  },
  {
   "cell_type": "code",
   "execution_count": 53,
   "metadata": {},
   "outputs": [],
   "source": [
    "#/api/v1.0/precipitation\n",
    "#Query for dates and temperature observations from last year\n",
    "#convert query results to a Dictionary using date as the key and tobs as value\n",
    "#Return json representation of your dictionary\n",
    "\n",
    "@app.route(\"/api/v1.0/precipitation\")\n",
    "def YTD_temperature():\n",
    "        #find latest date in database and date year ago\n",
    "        result=session.query(func.max(Measurement.date))\n",
    "        date_tuple=result[0]\n",
    "        max_date=date_tuple[0]\n",
    "        year_ago_date = max_date - datetime.timedelta(365)\n",
    "        #Query dates and temperature observations from last year\n",
    "        results=session.query(Measurement.date, Measurement.tobs).filter(Measurement.date >= (year_ago_date)).all()\n",
    "        \n",
    "        #convert query results to a dictionary using date as the key and tabs as value\n",
    "        for daily_temp in results:\n",
    "            temp_dict={}\n",
    "            Date=daily_temp.date\n",
    "            Temp=daily_temp.tabs\n",
    "            temp_dict[Date]=Temp\n",
    "            \n",
    "        #return json representation of your decitionary\n",
    "        return jsonify(temp_dict)\n",
    "            \n",
    "        "
   ]
  },
  {
   "cell_type": "code",
   "execution_count": 54,
   "metadata": {},
   "outputs": [
    {
     "name": "stderr",
     "output_type": "stream",
     "text": [
      " * Restarting with stat\n"
     ]
    },
    {
     "ename": "SystemExit",
     "evalue": "1",
     "output_type": "error",
     "traceback": [
      "An exception has occurred, use %tb to see the full traceback.\n",
      "\u001b[1;31mSystemExit\u001b[0m\u001b[1;31m:\u001b[0m 1\n"
     ]
    },
    {
     "name": "stderr",
     "output_type": "stream",
     "text": [
      "C:\\Users\\Saadi Laptop\\AppData\\Local\\conda\\conda\\envs\\PythonData\\lib\\site-packages\\IPython\\core\\interactiveshell.py:2870: UserWarning: To exit: use 'exit', 'quit', or Ctrl-D.\n",
      "  warn(\"To exit: use 'exit', 'quit', or Ctrl-D.\", stacklevel=1)\n"
     ]
    }
   ],
   "source": [
    "if __name__ == '__main__':\n",
    "    app.run(debug=True)"
   ]
  },
  {
   "cell_type": "code",
   "execution_count": null,
   "metadata": {},
   "outputs": [],
   "source": [
    "result=session.query(func.max(Measurement.date))\n",
    "date_tuple=result[0]\n",
    "max_date=date_tuple[0]\n",
    "year_ago_date = max_date - datetime.timedelta(365)\n",
    "#Query dates and temperature observations from last year\n",
    "results=session.query(Measurement.date, Measurement.tobs).filter(Measurement.date >= (year_ago_date)).all()\n",
    "        \n",
    "#convert query results to a dictionary using date as the key and tabs as value\n",
    "date_temp=[]\n",
    "\n",
    "for daily_temp in results:\n",
    "    Date=daily_temp[0]\n",
    "    Temp=daily_temp[1]\n",
    "    temp_dict={}\n",
    "    temp_dict.update({Date:Temp})\n",
    "    date_temp.append(temp_dict)\n"
   ]
  },
  {
   "cell_type": "code",
   "execution_count": 56,
   "metadata": {},
   "outputs": [],
   "source": [
    "temp_dict={}\n",
    "for daily_temp in results:\n",
    "    Date=str(daily_temp[0])\n",
    "    Temp=daily_temp[1]\n",
    "    temp_dict.update({Date:Temp})\n",
    "    "
   ]
  },
  {
   "cell_type": "code",
   "execution_count": 58,
   "metadata": {},
   "outputs": [
    {
     "data": {
      "text/plain": [
       "{datetime.date(2016, 8, 23): 81}"
      ]
     },
     "execution_count": 58,
     "metadata": {},
     "output_type": "execute_result"
    }
   ],
   "source": [
    "date_temp[0]"
   ]
  },
  {
   "cell_type": "raw",
   "metadata": {},
   "source": []
  },
  {
   "cell_type": "code",
   "execution_count": 62,
   "metadata": {},
   "outputs": [
    {
     "name": "stdout",
     "output_type": "stream",
     "text": [
      "('USC00519397',)\n",
      "('USC00513117',)\n",
      "('USC00514830',)\n",
      "('USC00517948',)\n",
      "('USC00518838',)\n",
      "('USC00519523',)\n",
      "('USC00519281',)\n",
      "('USC00511918',)\n",
      "('USC00516128',)\n"
     ]
    }
   ],
   "source": [
    "#/api/v1.0/stations\n",
    "#return list of stations\n",
    "\n",
    "results=session.query(Station.station)\n",
    "for result in results:\n",
    "    print(result)"
   ]
  },
  {
   "cell_type": "code",
   "execution_count": null,
   "metadata": {},
   "outputs": [],
   "source": [
    "# /api/v1.0/tobs\n",
    "\n",
    "\n",
    "# Return a json list of Temperature Observations (tobs) for the previous year\n"
   ]
  },
  {
   "cell_type": "code",
   "execution_count": null,
   "metadata": {},
   "outputs": [],
   "source": []
  },
  {
   "cell_type": "code",
   "execution_count": null,
   "metadata": {},
   "outputs": [],
   "source": [
    "y"
   ]
  },
  {
   "cell_type": "code",
   "execution_count": null,
   "metadata": {
    "collapsed": true
   },
   "outputs": [],
   "source": []
  }
 ],
 "metadata": {
  "kernelspec": {
   "display_name": "Python [conda env:PythonData]",
   "language": "python",
   "name": "conda-env-PythonData-py"
  },
  "language_info": {
   "codemirror_mode": {
    "name": "ipython",
    "version": 3
   },
   "file_extension": ".py",
   "mimetype": "text/x-python",
   "name": "python",
   "nbconvert_exporter": "python",
   "pygments_lexer": "ipython3",
   "version": "3.6.3"
  }
 },
 "nbformat": 4,
 "nbformat_minor": 2
}
